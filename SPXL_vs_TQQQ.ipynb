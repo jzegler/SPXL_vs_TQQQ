{
 "cells": [
  {
   "cell_type": "code",
   "execution_count": 260,
   "metadata": {
    "collapsed": true
   },
   "outputs": [],
   "source": [
    "import pandas as pd\n",
    "import matplotlib.pyplot as plt\n",
    "from alpha_vantage.timeseries import TimeSeries"
   ]
  },
  {
   "cell_type": "code",
   "execution_count": 261,
   "metadata": {
    "collapsed": true
   },
   "outputs": [],
   "source": [
    "SP_df = pd.read_csv('/Users/jzegler/Downloads/^GSPC.csv')"
   ]
  },
  {
   "cell_type": "code",
   "execution_count": 262,
   "metadata": {},
   "outputs": [
    {
     "data": {
      "text/html": [
       "<div>\n",
       "<style>\n",
       "    .dataframe thead tr:only-child th {\n",
       "        text-align: right;\n",
       "    }\n",
       "\n",
       "    .dataframe thead th {\n",
       "        text-align: left;\n",
       "    }\n",
       "\n",
       "    .dataframe tbody tr th {\n",
       "        vertical-align: top;\n",
       "    }\n",
       "</style>\n",
       "<table border=\"1\" class=\"dataframe\">\n",
       "  <thead>\n",
       "    <tr style=\"text-align: right;\">\n",
       "      <th></th>\n",
       "      <th>Date</th>\n",
       "      <th>Open</th>\n",
       "      <th>High</th>\n",
       "      <th>Low</th>\n",
       "      <th>Close</th>\n",
       "      <th>Adj Close</th>\n",
       "      <th>Volume</th>\n",
       "    </tr>\n",
       "  </thead>\n",
       "  <tbody>\n",
       "    <tr>\n",
       "      <th>0</th>\n",
       "      <td>2000-01-01</td>\n",
       "      <td>1469.250000</td>\n",
       "      <td>1478.000000</td>\n",
       "      <td>1377.680054</td>\n",
       "      <td>1441.469971</td>\n",
       "      <td>1441.469971</td>\n",
       "      <td>5343800000</td>\n",
       "    </tr>\n",
       "    <tr>\n",
       "      <th>1</th>\n",
       "      <td>2000-01-08</td>\n",
       "      <td>1441.469971</td>\n",
       "      <td>1473.000000</td>\n",
       "      <td>1427.079956</td>\n",
       "      <td>1465.150024</td>\n",
       "      <td>1465.150024</td>\n",
       "      <td>5169700000</td>\n",
       "    </tr>\n",
       "    <tr>\n",
       "      <th>2</th>\n",
       "      <td>2000-01-15</td>\n",
       "      <td>1465.150024</td>\n",
       "      <td>1465.709961</td>\n",
       "      <td>1438.540039</td>\n",
       "      <td>1441.359985</td>\n",
       "      <td>1441.359985</td>\n",
       "      <td>4455000000</td>\n",
       "    </tr>\n",
       "    <tr>\n",
       "      <th>3</th>\n",
       "      <td>2000-01-22</td>\n",
       "      <td>1441.359985</td>\n",
       "      <td>1454.089966</td>\n",
       "      <td>1356.199951</td>\n",
       "      <td>1360.160034</td>\n",
       "      <td>1360.160034</td>\n",
       "      <td>5532100000</td>\n",
       "    </tr>\n",
       "    <tr>\n",
       "      <th>4</th>\n",
       "      <td>2000-01-29</td>\n",
       "      <td>1360.160034</td>\n",
       "      <td>1435.910034</td>\n",
       "      <td>1350.140015</td>\n",
       "      <td>1424.369995</td>\n",
       "      <td>1424.369995</td>\n",
       "      <td>5205000000</td>\n",
       "    </tr>\n",
       "  </tbody>\n",
       "</table>\n",
       "</div>"
      ],
      "text/plain": [
       "         Date         Open         High          Low        Close  \\\n",
       "0  2000-01-01  1469.250000  1478.000000  1377.680054  1441.469971   \n",
       "1  2000-01-08  1441.469971  1473.000000  1427.079956  1465.150024   \n",
       "2  2000-01-15  1465.150024  1465.709961  1438.540039  1441.359985   \n",
       "3  2000-01-22  1441.359985  1454.089966  1356.199951  1360.160034   \n",
       "4  2000-01-29  1360.160034  1435.910034  1350.140015  1424.369995   \n",
       "\n",
       "     Adj Close      Volume  \n",
       "0  1441.469971  5343800000  \n",
       "1  1465.150024  5169700000  \n",
       "2  1441.359985  4455000000  \n",
       "3  1360.160034  5532100000  \n",
       "4  1424.369995  5205000000  "
      ]
     },
     "execution_count": 262,
     "metadata": {},
     "output_type": "execute_result"
    }
   ],
   "source": [
    "SP_df.head()"
   ]
  },
  {
   "cell_type": "code",
   "execution_count": 263,
   "metadata": {
    "collapsed": true
   },
   "outputs": [],
   "source": [
    "app = TimeSeries('XXXXXXXXXXXXXXXX', output_format='pandas')"
   ]
  },
  {
   "cell_type": "code",
   "execution_count": 264,
   "metadata": {
    "collapsed": true
   },
   "outputs": [],
   "source": [
    "#help(app)"
   ]
  },
  {
   "cell_type": "code",
   "execution_count": 265,
   "metadata": {
    "collapsed": true
   },
   "outputs": [],
   "source": [
    "SPXL = app.get_weekly_adjusted('SPXL')\n",
    "TQQQ = app.get_weekly_adjusted('TQQQ')\n",
    "#print(SPXL)\n",
    "#print(TQQQ)"
   ]
  },
  {
   "cell_type": "code",
   "execution_count": 266,
   "metadata": {},
   "outputs": [
    {
     "name": "stdout",
     "output_type": "stream",
     "text": [
      "<class 'pandas.core.frame.DataFrame'>\n",
      "<class 'pandas.core.frame.DataFrame'>\n",
      "1095\n"
     ]
    }
   ],
   "source": [
    "print(type(SPXL_df))\n",
    "#print(len(SPXL))\n",
    "#--print(SPXL[0])\n",
    "#--print(type(SPXL[0]))\n",
    "#print(SPXL[0])\n",
    "SPXL_df = SPXL[0]\n",
    "TQQQ_df = TQQQ[0]\n",
    "print(type(SP_df))\n",
    "print(len(SP_df))"
   ]
  },
  {
   "cell_type": "code",
   "execution_count": 267,
   "metadata": {},
   "outputs": [
    {
     "data": {
      "text/html": [
       "<div>\n",
       "<style>\n",
       "    .dataframe thead tr:only-child th {\n",
       "        text-align: right;\n",
       "    }\n",
       "\n",
       "    .dataframe thead th {\n",
       "        text-align: left;\n",
       "    }\n",
       "\n",
       "    .dataframe tbody tr th {\n",
       "        vertical-align: top;\n",
       "    }\n",
       "</style>\n",
       "<table border=\"1\" class=\"dataframe\">\n",
       "  <thead>\n",
       "    <tr style=\"text-align: right;\">\n",
       "      <th></th>\n",
       "      <th>1. open</th>\n",
       "      <th>2. high</th>\n",
       "      <th>3. low</th>\n",
       "      <th>4. close</th>\n",
       "      <th>5. adjusted close</th>\n",
       "      <th>6. volume</th>\n",
       "      <th>7. dividend amount</th>\n",
       "    </tr>\n",
       "    <tr>\n",
       "      <th>date</th>\n",
       "      <th></th>\n",
       "      <th></th>\n",
       "      <th></th>\n",
       "      <th></th>\n",
       "      <th></th>\n",
       "      <th></th>\n",
       "      <th></th>\n",
       "    </tr>\n",
       "  </thead>\n",
       "  <tbody>\n",
       "    <tr>\n",
       "      <th>2008-11-14</th>\n",
       "      <td>49.80</td>\n",
       "      <td>49.94</td>\n",
       "      <td>30.77</td>\n",
       "      <td>36.810</td>\n",
       "      <td>2.4566</td>\n",
       "      <td>8077976.0</td>\n",
       "      <td>0.0</td>\n",
       "    </tr>\n",
       "    <tr>\n",
       "      <th>2008-11-21</th>\n",
       "      <td>35.48</td>\n",
       "      <td>38.05</td>\n",
       "      <td>21.67</td>\n",
       "      <td>26.670</td>\n",
       "      <td>1.7799</td>\n",
       "      <td>36853088.0</td>\n",
       "      <td>0.0</td>\n",
       "    </tr>\n",
       "    <tr>\n",
       "      <th>2008-11-28</th>\n",
       "      <td>28.46</td>\n",
       "      <td>37.50</td>\n",
       "      <td>27.80</td>\n",
       "      <td>37.420</td>\n",
       "      <td>2.4973</td>\n",
       "      <td>21733816.0</td>\n",
       "      <td>0.0</td>\n",
       "    </tr>\n",
       "    <tr>\n",
       "      <th>2008-12-05</th>\n",
       "      <td>34.47</td>\n",
       "      <td>34.58</td>\n",
       "      <td>27.38</td>\n",
       "      <td>33.380</td>\n",
       "      <td>2.2277</td>\n",
       "      <td>51981673.0</td>\n",
       "      <td>0.0</td>\n",
       "    </tr>\n",
       "    <tr>\n",
       "      <th>2008-12-12</th>\n",
       "      <td>36.40</td>\n",
       "      <td>38.48</td>\n",
       "      <td>30.20</td>\n",
       "      <td>34.328</td>\n",
       "      <td>2.2909</td>\n",
       "      <td>54195877.0</td>\n",
       "      <td>0.0</td>\n",
       "    </tr>\n",
       "  </tbody>\n",
       "</table>\n",
       "</div>"
      ],
      "text/plain": [
       "            1. open  2. high  3. low  4. close  5. adjusted close   6. volume  \\\n",
       "date                                                                            \n",
       "2008-11-14    49.80    49.94   30.77    36.810             2.4566   8077976.0   \n",
       "2008-11-21    35.48    38.05   21.67    26.670             1.7799  36853088.0   \n",
       "2008-11-28    28.46    37.50   27.80    37.420             2.4973  21733816.0   \n",
       "2008-12-05    34.47    34.58   27.38    33.380             2.2277  51981673.0   \n",
       "2008-12-12    36.40    38.48   30.20    34.328             2.2909  54195877.0   \n",
       "\n",
       "            7. dividend amount  \n",
       "date                            \n",
       "2008-11-14                 0.0  \n",
       "2008-11-21                 0.0  \n",
       "2008-11-28                 0.0  \n",
       "2008-12-05                 0.0  \n",
       "2008-12-12                 0.0  "
      ]
     },
     "execution_count": 267,
     "metadata": {},
     "output_type": "execute_result"
    }
   ],
   "source": [
    "SPXL_df.head()"
   ]
  },
  {
   "cell_type": "code",
   "execution_count": 268,
   "metadata": {
    "collapsed": true
   },
   "outputs": [],
   "source": [
    "#SPXL_df.describe()"
   ]
  },
  {
   "cell_type": "code",
   "execution_count": 269,
   "metadata": {
    "collapsed": true,
    "scrolled": true
   },
   "outputs": [],
   "source": [
    "#plt.plot(range(0, len(SPXL_df)), SPXL_df['4. close']) #dont need this\n",
    "#plt.plot(SPXL_df.index.values, SPXL_df['4. close']) #use this - how to plot multiple dataframes?\n",
    "#plt.show()"
   ]
  },
  {
   "cell_type": "code",
   "execution_count": 270,
   "metadata": {
    "collapsed": true
   },
   "outputs": [],
   "source": [
    "SPXL_df = SPXL_df.filter(items=['date', '4. close'])\n",
    "TQQQ_df = TQQQ_df.filter(items=['date', '4. close'])\n",
    "SP_df = SP_df.filter(items=['Date', 'Close'])"
   ]
  },
  {
   "cell_type": "code",
   "execution_count": 271,
   "metadata": {},
   "outputs": [
    {
     "data": {
      "text/html": [
       "<div>\n",
       "<style>\n",
       "    .dataframe thead tr:only-child th {\n",
       "        text-align: right;\n",
       "    }\n",
       "\n",
       "    .dataframe thead th {\n",
       "        text-align: left;\n",
       "    }\n",
       "\n",
       "    .dataframe tbody tr th {\n",
       "        vertical-align: top;\n",
       "    }\n",
       "</style>\n",
       "<table border=\"1\" class=\"dataframe\">\n",
       "  <thead>\n",
       "    <tr style=\"text-align: right;\">\n",
       "      <th></th>\n",
       "      <th>4. close</th>\n",
       "    </tr>\n",
       "    <tr>\n",
       "      <th>date</th>\n",
       "      <th></th>\n",
       "    </tr>\n",
       "  </thead>\n",
       "  <tbody>\n",
       "    <tr>\n",
       "      <th>2010-02-19</th>\n",
       "      <td>89.76</td>\n",
       "    </tr>\n",
       "    <tr>\n",
       "      <th>2010-02-26</th>\n",
       "      <td>89.29</td>\n",
       "    </tr>\n",
       "    <tr>\n",
       "      <th>2010-03-05</th>\n",
       "      <td>99.45</td>\n",
       "    </tr>\n",
       "    <tr>\n",
       "      <th>2010-03-12</th>\n",
       "      <td>105.44</td>\n",
       "    </tr>\n",
       "    <tr>\n",
       "      <th>2010-03-19</th>\n",
       "      <td>106.62</td>\n",
       "    </tr>\n",
       "  </tbody>\n",
       "</table>\n",
       "</div>"
      ],
      "text/plain": [
       "            4. close\n",
       "date                \n",
       "2010-02-19     89.76\n",
       "2010-02-26     89.29\n",
       "2010-03-05     99.45\n",
       "2010-03-12    105.44\n",
       "2010-03-19    106.62"
      ]
     },
     "execution_count": 271,
     "metadata": {},
     "output_type": "execute_result"
    }
   ],
   "source": [
    "#SPXL_df.head()\n",
    "TQQQ_df.head()"
   ]
  },
  {
   "cell_type": "code",
   "execution_count": 272,
   "metadata": {},
   "outputs": [
    {
     "data": {
      "text/html": [
       "<div>\n",
       "<style>\n",
       "    .dataframe thead tr:only-child th {\n",
       "        text-align: right;\n",
       "    }\n",
       "\n",
       "    .dataframe thead th {\n",
       "        text-align: left;\n",
       "    }\n",
       "\n",
       "    .dataframe tbody tr th {\n",
       "        vertical-align: top;\n",
       "    }\n",
       "</style>\n",
       "<table border=\"1\" class=\"dataframe\">\n",
       "  <thead>\n",
       "    <tr style=\"text-align: right;\">\n",
       "      <th></th>\n",
       "      <th>4. close</th>\n",
       "      <th>pct_change</th>\n",
       "    </tr>\n",
       "    <tr>\n",
       "      <th>date</th>\n",
       "      <th></th>\n",
       "      <th></th>\n",
       "    </tr>\n",
       "  </thead>\n",
       "  <tbody>\n",
       "    <tr>\n",
       "      <th>2010-02-19</th>\n",
       "      <td>89.76</td>\n",
       "      <td>NaN</td>\n",
       "    </tr>\n",
       "    <tr>\n",
       "      <th>2010-02-26</th>\n",
       "      <td>89.29</td>\n",
       "      <td>-0.005236</td>\n",
       "    </tr>\n",
       "    <tr>\n",
       "      <th>2010-03-05</th>\n",
       "      <td>99.45</td>\n",
       "      <td>0.108550</td>\n",
       "    </tr>\n",
       "    <tr>\n",
       "      <th>2010-03-12</th>\n",
       "      <td>105.44</td>\n",
       "      <td>0.168782</td>\n",
       "    </tr>\n",
       "    <tr>\n",
       "      <th>2010-03-19</th>\n",
       "      <td>106.62</td>\n",
       "      <td>0.179973</td>\n",
       "    </tr>\n",
       "  </tbody>\n",
       "</table>\n",
       "</div>"
      ],
      "text/plain": [
       "            4. close  pct_change\n",
       "date                            \n",
       "2010-02-19     89.76         NaN\n",
       "2010-02-26     89.29   -0.005236\n",
       "2010-03-05     99.45    0.108550\n",
       "2010-03-12    105.44    0.168782\n",
       "2010-03-19    106.62    0.179973"
      ]
     },
     "execution_count": 272,
     "metadata": {},
     "output_type": "execute_result"
    }
   ],
   "source": [
    "SPXL_df['pct_change'] = SPXL_df['4. close'].pct_change().cumsum()\n",
    "TQQQ_df['pct_change'] = TQQQ_df['4. close'].pct_change().cumsum()\n",
    "TQQQ_df.head()\n",
    "\n",
    "#SPXL_df['pct_change'] = SPXL_df['4. close'].pct_change()\n",
    "#SPXL_df['pct_change'] = round(SPXL_df['pct_change'] *100, 2)\n",
    "#TQQQ_df['pct_change'] = TQQQ_df['4. close'].pct_change()\n",
    "#TQQQ_df['pct_change'] = round(TQQQ_df['pct_change'] *100, 2)"
   ]
  },
  {
   "cell_type": "code",
   "execution_count": 273,
   "metadata": {
    "scrolled": true
   },
   "outputs": [
    {
     "data": {
      "text/html": [
       "<div>\n",
       "<style>\n",
       "    .dataframe thead tr:only-child th {\n",
       "        text-align: right;\n",
       "    }\n",
       "\n",
       "    .dataframe thead th {\n",
       "        text-align: left;\n",
       "    }\n",
       "\n",
       "    .dataframe tbody tr th {\n",
       "        vertical-align: top;\n",
       "    }\n",
       "</style>\n",
       "<table border=\"1\" class=\"dataframe\">\n",
       "  <thead>\n",
       "    <tr style=\"text-align: right;\">\n",
       "      <th></th>\n",
       "      <th>Date</th>\n",
       "      <th>Close</th>\n",
       "    </tr>\n",
       "  </thead>\n",
       "  <tbody>\n",
       "    <tr>\n",
       "      <th>0</th>\n",
       "      <td>2000-01-01</td>\n",
       "      <td>1441.469971</td>\n",
       "    </tr>\n",
       "    <tr>\n",
       "      <th>1</th>\n",
       "      <td>2000-01-08</td>\n",
       "      <td>1465.150024</td>\n",
       "    </tr>\n",
       "    <tr>\n",
       "      <th>2</th>\n",
       "      <td>2000-01-15</td>\n",
       "      <td>1441.359985</td>\n",
       "    </tr>\n",
       "    <tr>\n",
       "      <th>3</th>\n",
       "      <td>2000-01-22</td>\n",
       "      <td>1360.160034</td>\n",
       "    </tr>\n",
       "    <tr>\n",
       "      <th>4</th>\n",
       "      <td>2000-01-29</td>\n",
       "      <td>1424.369995</td>\n",
       "    </tr>\n",
       "  </tbody>\n",
       "</table>\n",
       "</div>"
      ],
      "text/plain": [
       "         Date        Close\n",
       "0  2000-01-01  1441.469971\n",
       "1  2000-01-08  1465.150024\n",
       "2  2000-01-15  1441.359985\n",
       "3  2000-01-22  1360.160034\n",
       "4  2000-01-29  1424.369995"
      ]
     },
     "execution_count": 273,
     "metadata": {},
     "output_type": "execute_result"
    }
   ],
   "source": [
    "SP_df.head()"
   ]
  },
  {
   "cell_type": "code",
   "execution_count": 274,
   "metadata": {
    "collapsed": true
   },
   "outputs": [],
   "source": [
    "#print(type(SP_df['Close'].iloc[0]))\n",
    "SP_df = SP_df[~(SP_df['Close'] == 'null')]"
   ]
  },
  {
   "cell_type": "code",
   "execution_count": 275,
   "metadata": {
    "scrolled": true
   },
   "outputs": [
    {
     "data": {
      "text/html": [
       "<div>\n",
       "<style>\n",
       "    .dataframe thead tr:only-child th {\n",
       "        text-align: right;\n",
       "    }\n",
       "\n",
       "    .dataframe thead th {\n",
       "        text-align: left;\n",
       "    }\n",
       "\n",
       "    .dataframe tbody tr th {\n",
       "        vertical-align: top;\n",
       "    }\n",
       "</style>\n",
       "<table border=\"1\" class=\"dataframe\">\n",
       "  <thead>\n",
       "    <tr style=\"text-align: right;\">\n",
       "      <th></th>\n",
       "      <th>Date</th>\n",
       "      <th>Close</th>\n",
       "    </tr>\n",
       "  </thead>\n",
       "  <tbody>\n",
       "    <tr>\n",
       "      <th>1091</th>\n",
       "      <td>2020-11-28</td>\n",
       "      <td>3699.120117</td>\n",
       "    </tr>\n",
       "    <tr>\n",
       "      <th>1092</th>\n",
       "      <td>2020-12-05</td>\n",
       "      <td>3663.459961</td>\n",
       "    </tr>\n",
       "    <tr>\n",
       "      <th>1093</th>\n",
       "      <td>2020-12-12</td>\n",
       "      <td>3709.409912</td>\n",
       "    </tr>\n",
       "  </tbody>\n",
       "</table>\n",
       "</div>"
      ],
      "text/plain": [
       "            Date        Close\n",
       "1091  2020-11-28  3699.120117\n",
       "1092  2020-12-05  3663.459961\n",
       "1093  2020-12-12  3709.409912"
      ]
     },
     "execution_count": 275,
     "metadata": {},
     "output_type": "execute_result"
    }
   ],
   "source": [
    "SP_df.tail(3)"
   ]
  },
  {
   "cell_type": "code",
   "execution_count": 276,
   "metadata": {},
   "outputs": [
    {
     "data": {
      "text/html": [
       "<div>\n",
       "<style>\n",
       "    .dataframe thead tr:only-child th {\n",
       "        text-align: right;\n",
       "    }\n",
       "\n",
       "    .dataframe thead th {\n",
       "        text-align: left;\n",
       "    }\n",
       "\n",
       "    .dataframe tbody tr th {\n",
       "        vertical-align: top;\n",
       "    }\n",
       "</style>\n",
       "<table border=\"1\" class=\"dataframe\">\n",
       "  <thead>\n",
       "    <tr style=\"text-align: right;\">\n",
       "      <th></th>\n",
       "      <th>Date</th>\n",
       "      <th>Close</th>\n",
       "    </tr>\n",
       "  </thead>\n",
       "  <tbody>\n",
       "    <tr>\n",
       "      <th>0</th>\n",
       "      <td>2000-01-01</td>\n",
       "      <td>1441.469971</td>\n",
       "    </tr>\n",
       "    <tr>\n",
       "      <th>1</th>\n",
       "      <td>2000-01-08</td>\n",
       "      <td>1465.150024</td>\n",
       "    </tr>\n",
       "    <tr>\n",
       "      <th>2</th>\n",
       "      <td>2000-01-15</td>\n",
       "      <td>1441.359985</td>\n",
       "    </tr>\n",
       "    <tr>\n",
       "      <th>3</th>\n",
       "      <td>2000-01-22</td>\n",
       "      <td>1360.160034</td>\n",
       "    </tr>\n",
       "    <tr>\n",
       "      <th>4</th>\n",
       "      <td>2000-01-29</td>\n",
       "      <td>1424.369995</td>\n",
       "    </tr>\n",
       "  </tbody>\n",
       "</table>\n",
       "</div>"
      ],
      "text/plain": [
       "         Date        Close\n",
       "0  2000-01-01  1441.469971\n",
       "1  2000-01-08  1465.150024\n",
       "2  2000-01-15  1441.359985\n",
       "3  2000-01-22  1360.160034\n",
       "4  2000-01-29  1424.369995"
      ]
     },
     "execution_count": 276,
     "metadata": {},
     "output_type": "execute_result"
    }
   ],
   "source": [
    "SP_df.head()"
   ]
  },
  {
   "cell_type": "code",
   "execution_count": 291,
   "metadata": {
    "collapsed": true
   },
   "outputs": [],
   "source": [
    "SP_df['pct_change'] = SP_df['Close'].astype(float).pct_change().cumsum() *100"
   ]
  },
  {
   "cell_type": "code",
   "execution_count": 292,
   "metadata": {},
   "outputs": [
    {
     "data": {
      "text/html": [
       "<div>\n",
       "<style>\n",
       "    .dataframe thead tr:only-child th {\n",
       "        text-align: right;\n",
       "    }\n",
       "\n",
       "    .dataframe thead th {\n",
       "        text-align: left;\n",
       "    }\n",
       "\n",
       "    .dataframe tbody tr th {\n",
       "        vertical-align: top;\n",
       "    }\n",
       "</style>\n",
       "<table border=\"1\" class=\"dataframe\">\n",
       "  <thead>\n",
       "    <tr style=\"text-align: right;\">\n",
       "      <th></th>\n",
       "      <th>Date</th>\n",
       "      <th>Close</th>\n",
       "      <th>pct_change</th>\n",
       "    </tr>\n",
       "  </thead>\n",
       "  <tbody>\n",
       "    <tr>\n",
       "      <th>522</th>\n",
       "      <td>2010-01-02</td>\n",
       "      <td>1144.979980</td>\n",
       "      <td>NaN</td>\n",
       "    </tr>\n",
       "    <tr>\n",
       "      <th>523</th>\n",
       "      <td>2010-01-09</td>\n",
       "      <td>1136.030029</td>\n",
       "      <td>-0.781669</td>\n",
       "    </tr>\n",
       "    <tr>\n",
       "      <th>524</th>\n",
       "      <td>2010-01-16</td>\n",
       "      <td>1091.760010</td>\n",
       "      <td>-4.678574</td>\n",
       "    </tr>\n",
       "    <tr>\n",
       "      <th>525</th>\n",
       "      <td>2010-01-23</td>\n",
       "      <td>1073.869995</td>\n",
       "      <td>-6.317214</td>\n",
       "    </tr>\n",
       "    <tr>\n",
       "      <th>526</th>\n",
       "      <td>2010-01-30</td>\n",
       "      <td>1066.189941</td>\n",
       "      <td>-7.032390</td>\n",
       "    </tr>\n",
       "  </tbody>\n",
       "</table>\n",
       "</div>"
      ],
      "text/plain": [
       "           Date        Close  pct_change\n",
       "522  2010-01-02  1144.979980         NaN\n",
       "523  2010-01-09  1136.030029   -0.781669\n",
       "524  2010-01-16  1091.760010   -4.678574\n",
       "525  2010-01-23  1073.869995   -6.317214\n",
       "526  2010-01-30  1066.189941   -7.032390"
      ]
     },
     "execution_count": 292,
     "metadata": {},
     "output_type": "execute_result"
    }
   ],
   "source": [
    "SP_df.head()"
   ]
  },
  {
   "cell_type": "code",
   "execution_count": 293,
   "metadata": {},
   "outputs": [
    {
     "data": {
      "text/html": [
       "<div>\n",
       "<style>\n",
       "    .dataframe thead tr:only-child th {\n",
       "        text-align: right;\n",
       "    }\n",
       "\n",
       "    .dataframe thead th {\n",
       "        text-align: left;\n",
       "    }\n",
       "\n",
       "    .dataframe tbody tr th {\n",
       "        vertical-align: top;\n",
       "    }\n",
       "</style>\n",
       "<table border=\"1\" class=\"dataframe\">\n",
       "  <thead>\n",
       "    <tr style=\"text-align: right;\">\n",
       "      <th></th>\n",
       "      <th>Date</th>\n",
       "      <th>Close</th>\n",
       "      <th>pct_change</th>\n",
       "    </tr>\n",
       "  </thead>\n",
       "  <tbody>\n",
       "    <tr>\n",
       "      <th>522</th>\n",
       "      <td>2010-01-02</td>\n",
       "      <td>1144.979980</td>\n",
       "      <td>NaN</td>\n",
       "    </tr>\n",
       "    <tr>\n",
       "      <th>523</th>\n",
       "      <td>2010-01-09</td>\n",
       "      <td>1136.030029</td>\n",
       "      <td>-0.781669</td>\n",
       "    </tr>\n",
       "    <tr>\n",
       "      <th>524</th>\n",
       "      <td>2010-01-16</td>\n",
       "      <td>1091.760010</td>\n",
       "      <td>-4.678574</td>\n",
       "    </tr>\n",
       "    <tr>\n",
       "      <th>525</th>\n",
       "      <td>2010-01-23</td>\n",
       "      <td>1073.869995</td>\n",
       "      <td>-6.317214</td>\n",
       "    </tr>\n",
       "    <tr>\n",
       "      <th>526</th>\n",
       "      <td>2010-01-30</td>\n",
       "      <td>1066.189941</td>\n",
       "      <td>-7.032390</td>\n",
       "    </tr>\n",
       "    <tr>\n",
       "      <th>527</th>\n",
       "      <td>2010-02-06</td>\n",
       "      <td>1075.510010</td>\n",
       "      <td>-6.158243</td>\n",
       "    </tr>\n",
       "    <tr>\n",
       "      <th>528</th>\n",
       "      <td>2010-02-13</td>\n",
       "      <td>1109.170044</td>\n",
       "      <td>-3.028561</td>\n",
       "    </tr>\n",
       "    <tr>\n",
       "      <th>529</th>\n",
       "      <td>2010-02-20</td>\n",
       "      <td>1104.489990</td>\n",
       "      <td>-3.450503</td>\n",
       "    </tr>\n",
       "    <tr>\n",
       "      <th>530</th>\n",
       "      <td>2010-02-27</td>\n",
       "      <td>1138.699951</td>\n",
       "      <td>-0.353150</td>\n",
       "    </tr>\n",
       "    <tr>\n",
       "      <th>531</th>\n",
       "      <td>2010-03-06</td>\n",
       "      <td>1149.989990</td>\n",
       "      <td>0.638335</td>\n",
       "    </tr>\n",
       "    <tr>\n",
       "      <th>532</th>\n",
       "      <td>2010-03-13</td>\n",
       "      <td>1159.900024</td>\n",
       "      <td>1.500085</td>\n",
       "    </tr>\n",
       "    <tr>\n",
       "      <th>533</th>\n",
       "      <td>2010-03-20</td>\n",
       "      <td>1166.589966</td>\n",
       "      <td>2.076854</td>\n",
       "    </tr>\n",
       "    <tr>\n",
       "      <th>534</th>\n",
       "      <td>2010-03-27</td>\n",
       "      <td>1178.099976</td>\n",
       "      <td>3.063491</td>\n",
       "    </tr>\n",
       "    <tr>\n",
       "      <th>535</th>\n",
       "      <td>2010-04-03</td>\n",
       "      <td>1194.369995</td>\n",
       "      <td>4.444530</td>\n",
       "    </tr>\n",
       "    <tr>\n",
       "      <th>536</th>\n",
       "      <td>2010-04-10</td>\n",
       "      <td>1192.130005</td>\n",
       "      <td>4.256984</td>\n",
       "    </tr>\n",
       "    <tr>\n",
       "      <th>537</th>\n",
       "      <td>2010-04-17</td>\n",
       "      <td>1217.280029</td>\n",
       "      <td>6.366655</td>\n",
       "    </tr>\n",
       "    <tr>\n",
       "      <th>538</th>\n",
       "      <td>2010-04-24</td>\n",
       "      <td>1186.689941</td>\n",
       "      <td>3.853668</td>\n",
       "    </tr>\n",
       "    <tr>\n",
       "      <th>539</th>\n",
       "      <td>2010-05-01</td>\n",
       "      <td>1110.880005</td>\n",
       "      <td>-2.534684</td>\n",
       "    </tr>\n",
       "    <tr>\n",
       "      <th>540</th>\n",
       "      <td>2010-05-08</td>\n",
       "      <td>1135.680054</td>\n",
       "      <td>-0.302215</td>\n",
       "    </tr>\n",
       "    <tr>\n",
       "      <th>541</th>\n",
       "      <td>2010-05-15</td>\n",
       "      <td>1087.689941</td>\n",
       "      <td>-4.527887</td>\n",
       "    </tr>\n",
       "  </tbody>\n",
       "</table>\n",
       "</div>"
      ],
      "text/plain": [
       "           Date        Close  pct_change\n",
       "522  2010-01-02  1144.979980         NaN\n",
       "523  2010-01-09  1136.030029   -0.781669\n",
       "524  2010-01-16  1091.760010   -4.678574\n",
       "525  2010-01-23  1073.869995   -6.317214\n",
       "526  2010-01-30  1066.189941   -7.032390\n",
       "527  2010-02-06  1075.510010   -6.158243\n",
       "528  2010-02-13  1109.170044   -3.028561\n",
       "529  2010-02-20  1104.489990   -3.450503\n",
       "530  2010-02-27  1138.699951   -0.353150\n",
       "531  2010-03-06  1149.989990    0.638335\n",
       "532  2010-03-13  1159.900024    1.500085\n",
       "533  2010-03-20  1166.589966    2.076854\n",
       "534  2010-03-27  1178.099976    3.063491\n",
       "535  2010-04-03  1194.369995    4.444530\n",
       "536  2010-04-10  1192.130005    4.256984\n",
       "537  2010-04-17  1217.280029    6.366655\n",
       "538  2010-04-24  1186.689941    3.853668\n",
       "539  2010-05-01  1110.880005   -2.534684\n",
       "540  2010-05-08  1135.680054   -0.302215\n",
       "541  2010-05-15  1087.689941   -4.527887"
      ]
     },
     "execution_count": 293,
     "metadata": {},
     "output_type": "execute_result"
    }
   ],
   "source": [
    "SP_df = SP_df[(SP_df['Date'] >= '2010-01-01')]\n",
    "\n",
    "SP_df.head(20)\n",
    "\n",
    "#df[(df['date'] > '2013-01-01') & (df['date'] < '2013-02-01')]"
   ]
  },
  {
   "cell_type": "code",
   "execution_count": 306,
   "metadata": {
    "scrolled": false
   },
   "outputs": [
    {
     "data": {
      "text/html": [
       "<div>\n",
       "<style>\n",
       "    .dataframe thead tr:only-child th {\n",
       "        text-align: right;\n",
       "    }\n",
       "\n",
       "    .dataframe thead th {\n",
       "        text-align: left;\n",
       "    }\n",
       "\n",
       "    .dataframe tbody tr th {\n",
       "        vertical-align: top;\n",
       "    }\n",
       "</style>\n",
       "<table border=\"1\" class=\"dataframe\">\n",
       "  <thead>\n",
       "    <tr style=\"text-align: right;\">\n",
       "      <th></th>\n",
       "      <th>4. close</th>\n",
       "      <th>pct_change</th>\n",
       "    </tr>\n",
       "    <tr>\n",
       "      <th>date</th>\n",
       "      <th></th>\n",
       "      <th></th>\n",
       "    </tr>\n",
       "  </thead>\n",
       "  <tbody>\n",
       "    <tr>\n",
       "      <th>2010-02-19</th>\n",
       "      <td>89.76</td>\n",
       "      <td>NaN</td>\n",
       "    </tr>\n",
       "    <tr>\n",
       "      <th>2010-02-26</th>\n",
       "      <td>89.29</td>\n",
       "      <td>-0.005236</td>\n",
       "    </tr>\n",
       "    <tr>\n",
       "      <th>2010-03-05</th>\n",
       "      <td>99.45</td>\n",
       "      <td>0.108550</td>\n",
       "    </tr>\n",
       "    <tr>\n",
       "      <th>2010-03-12</th>\n",
       "      <td>105.44</td>\n",
       "      <td>0.168782</td>\n",
       "    </tr>\n",
       "    <tr>\n",
       "      <th>2010-03-19</th>\n",
       "      <td>106.62</td>\n",
       "      <td>0.179973</td>\n",
       "    </tr>\n",
       "  </tbody>\n",
       "</table>\n",
       "</div>"
      ],
      "text/plain": [
       "            4. close  pct_change\n",
       "date                            \n",
       "2010-02-19     89.76         NaN\n",
       "2010-02-26     89.29   -0.005236\n",
       "2010-03-05     99.45    0.108550\n",
       "2010-03-12    105.44    0.168782\n",
       "2010-03-19    106.62    0.179973"
      ]
     },
     "execution_count": 306,
     "metadata": {},
     "output_type": "execute_result"
    }
   ],
   "source": [
    "#SPXL_df.head()\n",
    "TQQQ_df.head()"
   ]
  },
  {
   "cell_type": "code",
   "execution_count": 281,
   "metadata": {},
   "outputs": [
    {
     "data": {
      "text/html": [
       "<div>\n",
       "<style>\n",
       "    .dataframe thead tr:only-child th {\n",
       "        text-align: right;\n",
       "    }\n",
       "\n",
       "    .dataframe thead th {\n",
       "        text-align: left;\n",
       "    }\n",
       "\n",
       "    .dataframe tbody tr th {\n",
       "        vertical-align: top;\n",
       "    }\n",
       "</style>\n",
       "<table border=\"1\" class=\"dataframe\">\n",
       "  <thead>\n",
       "    <tr style=\"text-align: right;\">\n",
       "      <th></th>\n",
       "      <th>4. close</th>\n",
       "      <th>pct_change</th>\n",
       "    </tr>\n",
       "    <tr>\n",
       "      <th>date</th>\n",
       "      <th></th>\n",
       "      <th></th>\n",
       "    </tr>\n",
       "  </thead>\n",
       "  <tbody>\n",
       "    <tr>\n",
       "      <th>2020-11-27</th>\n",
       "      <td>157.21</td>\n",
       "      <td>3.462120</td>\n",
       "    </tr>\n",
       "    <tr>\n",
       "      <th>2020-12-04</th>\n",
       "      <td>167.59</td>\n",
       "      <td>3.528146</td>\n",
       "    </tr>\n",
       "    <tr>\n",
       "      <th>2020-12-11</th>\n",
       "      <td>161.30</td>\n",
       "      <td>3.490614</td>\n",
       "    </tr>\n",
       "    <tr>\n",
       "      <th>2020-12-18</th>\n",
       "      <td>174.33</td>\n",
       "      <td>3.571395</td>\n",
       "    </tr>\n",
       "    <tr>\n",
       "      <th>2020-12-21</th>\n",
       "      <td>173.68</td>\n",
       "      <td>3.567667</td>\n",
       "    </tr>\n",
       "  </tbody>\n",
       "</table>\n",
       "</div>"
      ],
      "text/plain": [
       "            4. close  pct_change\n",
       "date                            \n",
       "2020-11-27    157.21    3.462120\n",
       "2020-12-04    167.59    3.528146\n",
       "2020-12-11    161.30    3.490614\n",
       "2020-12-18    174.33    3.571395\n",
       "2020-12-21    173.68    3.567667"
      ]
     },
     "execution_count": 281,
     "metadata": {},
     "output_type": "execute_result"
    }
   ],
   "source": [
    "TQQQ_df.tail()"
   ]
  },
  {
   "cell_type": "code",
   "execution_count": 282,
   "metadata": {},
   "outputs": [
    {
     "data": {
      "text/html": [
       "<div>\n",
       "<style>\n",
       "    .dataframe thead tr:only-child th {\n",
       "        text-align: right;\n",
       "    }\n",
       "\n",
       "    .dataframe thead th {\n",
       "        text-align: left;\n",
       "    }\n",
       "\n",
       "    .dataframe tbody tr th {\n",
       "        vertical-align: top;\n",
       "    }\n",
       "</style>\n",
       "<table border=\"1\" class=\"dataframe\">\n",
       "  <thead>\n",
       "    <tr style=\"text-align: right;\">\n",
       "      <th></th>\n",
       "      <th>4. close</th>\n",
       "      <th>pct_change</th>\n",
       "    </tr>\n",
       "    <tr>\n",
       "      <th>date</th>\n",
       "      <th></th>\n",
       "      <th></th>\n",
       "    </tr>\n",
       "  </thead>\n",
       "  <tbody>\n",
       "    <tr>\n",
       "      <th>2020-11-27</th>\n",
       "      <td>65.98</td>\n",
       "      <td>3.483789</td>\n",
       "    </tr>\n",
       "    <tr>\n",
       "      <th>2020-12-04</th>\n",
       "      <td>69.36</td>\n",
       "      <td>3.535017</td>\n",
       "    </tr>\n",
       "    <tr>\n",
       "      <th>2020-12-11</th>\n",
       "      <td>67.28</td>\n",
       "      <td>3.505028</td>\n",
       "    </tr>\n",
       "    <tr>\n",
       "      <th>2020-12-18</th>\n",
       "      <td>69.71</td>\n",
       "      <td>3.541146</td>\n",
       "    </tr>\n",
       "    <tr>\n",
       "      <th>2020-12-21</th>\n",
       "      <td>69.01</td>\n",
       "      <td>3.531104</td>\n",
       "    </tr>\n",
       "  </tbody>\n",
       "</table>\n",
       "</div>"
      ],
      "text/plain": [
       "            4. close  pct_change\n",
       "date                            \n",
       "2020-11-27     65.98    3.483789\n",
       "2020-12-04     69.36    3.535017\n",
       "2020-12-11     67.28    3.505028\n",
       "2020-12-18     69.71    3.541146\n",
       "2020-12-21     69.01    3.531104"
      ]
     },
     "execution_count": 282,
     "metadata": {},
     "output_type": "execute_result"
    }
   ],
   "source": [
    "SPXL_df.tail()"
   ]
  },
  {
   "cell_type": "code",
   "execution_count": 304,
   "metadata": {},
   "outputs": [
    {
     "data": {
      "text/plain": [
       "<matplotlib.figure.Figure at 0x11e19db00>"
      ]
     },
     "execution_count": 304,
     "metadata": {},
     "output_type": "execute_result"
    }
   ],
   "source": [
    "plt.figure(figsize=(12,8), dpi= 100, facecolor='w', edgecolor='k')\n",
    "#SPXL vs. S&P500 vs. market avg !!!!"
   ]
  },
  {
   "cell_type": "code",
   "execution_count": 305,
   "metadata": {},
   "outputs": [
    {
     "data": {
      "image/png": "[encoded data removed]",
      "text/plain": [
       "<matplotlib.figure.Figure at 0x11e19db00>"
      ]
     },
     "metadata": {},
     "output_type": "display_data"
    }
   ],
   "source": [
    "#plt.plot(SPXL_df.index.values, SPXL_df['4. close']) #use this\n",
    "SPXL = plt.plot(SPXL_df.index.values, SPXL_df['pct_change'], label='SPXL - 3X S&P500 ETF' ) #use this\n",
    "TQQQ = plt.plot(TQQQ_df.index.values, TQQQ_df['pct_change'], label='TQQQ - 3X NASDAQ100 ETF')\n",
    "#SP500 = plt.plot(SP_df['Date'], SP_df['pct_change'], label='^GSPC - S&P500')\n",
    "plt.legend()\n",
    "plt.show()"
   ]
  },
  {
   "cell_type": "code",
   "execution_count": null,
   "metadata": {
    "collapsed": true
   },
   "outputs": [],
   "source": []
  }
 ],
 "metadata": {
  "kernelspec": {
   "display_name": "Python 3",
   "language": "python",
   "name": "python3"
  },
  "language_info": {
   "codemirror_mode": {
    "name": "ipython",
    "version": 3
   },
   "file_extension": ".py",
   "mimetype": "text/x-python",
   "name": "python",
   "nbconvert_exporter": "python",
   "pygments_lexer": "ipython3",
   "version": "3.6.10"
  }
 },
 "nbformat": 4,
 "nbformat_minor": 2
}
